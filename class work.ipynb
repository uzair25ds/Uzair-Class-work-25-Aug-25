{
 "cells": [
  {
   "cell_type": "code",
   "execution_count": 1,
   "id": "ef9d216f-0749-40e6-80be-885823efff1b",
   "metadata": {},
   "outputs": [
    {
     "name": "stdin",
     "output_type": "stream",
     "text": [
      "Enter a number:  37\n"
     ]
    },
    {
     "name": "stdout",
     "output_type": "stream",
     "text": [
      "Odd and Small\n"
     ]
    }
   ],
   "source": [
    "number = int(input(\"Enter a number: \"))\n",
    "\n",
    "# Conditions check karna\n",
    "if number % 2 == 0 and number > 50:\n",
    "    print(\"Even and Big\")\n",
    "elif number % 2 == 0 and number <= 50:\n",
    "    print(\"Even and Small\")\n",
    "elif number % 2 != 0 and number > 50:\n",
    "    print(\"Odd and Big\")\n",
    "else:\n",
    "    print(\"Odd and Small\")\n"
   ]
  },
  {
   "cell_type": "code",
   "execution_count": null,
   "id": "4bb3d4d6-1fec-4f9c-b356-acb0b73f981d",
   "metadata": {},
   "outputs": [],
   "source": []
  }
 ],
 "metadata": {
  "kernelspec": {
   "display_name": "Python 3 (ipykernel)",
   "language": "python",
   "name": "python3"
  },
  "language_info": {
   "codemirror_mode": {
    "name": "ipython",
    "version": 3
   },
   "file_extension": ".py",
   "mimetype": "text/x-python",
   "name": "python",
   "nbconvert_exporter": "python",
   "pygments_lexer": "ipython3",
   "version": "3.12.7"
  }
 },
 "nbformat": 4,
 "nbformat_minor": 5
}
